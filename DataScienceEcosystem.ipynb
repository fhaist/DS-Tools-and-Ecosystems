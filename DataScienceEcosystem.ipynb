{
 "cells": [
  {
   "cell_type": "markdown",
   "id": "5dab9905",
   "metadata": {},
   "source": [
    "# Data Science Tools and Ecosystem  "
   ]
  },
  {
   "cell_type": "markdown",
   "id": "3b6ebeac",
   "metadata": {},
   "source": [
    "In this notebook, Data Science Tools and Ecosystem are summarized."
   ]
  },
  {
   "cell_type": "markdown",
   "id": "ed68ce8b",
   "metadata": {},
   "source": [
    "**Objectives**\n",
    "- List popular languages for data science  \n",
    "- List popular packages Data Scientists use in their work  \n",
    "- Learn to install and use Jupyter Notebooks  \n",
    "- Learn to use GitHub and Git for versioned programming tasks  "
   ]
  },
  {
   "cell_type": "markdown",
   "id": "c2a3b51b",
   "metadata": {},
   "source": [
    "Some of the popular languages that Data Scientists use are:  \n",
    "  \n",
    "1. Python\n",
    "2. R\n",
    "3. Julia\n",
    "4. SQL\n",
    "5. MATLAB\n",
    "6. SPSS\n",
    "7. SAS"
   ]
  },
  {
   "cell_type": "markdown",
   "id": "bfb0dc86",
   "metadata": {},
   "source": [
    "Some of the commonly used libraries used by Data Scientists include:  \n",
    "  \n",
    "1. NumPy (Python)\n",
    "2. SciPy (Python)\n",
    "3. Pandas (Python)\n",
    "4. Matplotlib (Python)\n",
    "5. dplyr (R)\n",
    "6. caret (R)\n",
    "7. ggplot2 (R)\n"
   ]
  },
  {
   "cell_type": "markdown",
   "id": "58ad75b3",
   "metadata": {},
   "source": [
    "|  Data Science Tools |\n",
    "|  :-----------:  |\n",
    "| Python |  \n",
    "| R |  \n",
    "| Julia |  \n"
   ]
  },
  {
   "cell_type": "markdown",
   "id": "6a86b7ed",
   "metadata": {},
   "source": [
    "### Below are a few examples of evaluating arithmetic expressions in Python"
   ]
  },
  {
   "cell_type": "markdown",
   "id": "7f7a8447",
   "metadata": {},
   "source": [
    "*This is a simple arithmetic expression to multiply then add integers*"
   ]
  },
  {
   "cell_type": "code",
   "execution_count": 1,
   "id": "c8b60c3d",
   "metadata": {},
   "outputs": [
    {
     "data": {
      "text/plain": [
       "17"
      ]
     },
     "execution_count": 1,
     "metadata": {},
     "output_type": "execute_result"
    }
   ],
   "source": [
    "(3*4)+5"
   ]
  },
  {
   "cell_type": "markdown",
   "id": "d95f4c78",
   "metadata": {},
   "source": [
    "*This will convert 200 minutes to hours by dividing by 60*"
   ]
  },
  {
   "cell_type": "code",
   "execution_count": 4,
   "id": "ecb4d4c1",
   "metadata": {
    "scrolled": true
   },
   "outputs": [
    {
     "name": "stdout",
     "output_type": "stream",
     "text": [
      "200 minutes equals 3.3333333333333335 hours.\n"
     ]
    }
   ],
   "source": [
    "x=200\n",
    "y=60\n",
    "z=x/y\n",
    "print(x,\"minutes equals\",z,\"hours.\")"
   ]
  },
  {
   "cell_type": "markdown",
   "id": "50fa48fb",
   "metadata": {},
   "source": [
    "## Author  \n",
    "Frank Haist"
   ]
  }
 ],
 "metadata": {
  "kernelspec": {
   "display_name": "Python 3 (ipykernel)",
   "language": "python",
   "name": "python3"
  },
  "language_info": {
   "codemirror_mode": {
    "name": "ipython",
    "version": 3
   },
   "file_extension": ".py",
   "mimetype": "text/x-python",
   "name": "python",
   "nbconvert_exporter": "python",
   "pygments_lexer": "ipython3",
   "version": "3.11.5"
  }
 },
 "nbformat": 4,
 "nbformat_minor": 5
}
